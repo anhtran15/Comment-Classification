{
  "cells": [
    {
      "cell_type": "markdown",
      "metadata": {
        "colab_type": "text",
        "id": "view-in-github"
      },
      "source": [
        "<a href=\"https://colab.research.google.com/github/AVL1/CS114.K21.KHTN/blob/master/ML_Capstone.ipynb\" target=\"_parent\"><img src=\"https://colab.research.google.com/assets/colab-badge.svg\" alt=\"Open In Colab\"/></a>"
      ]
    },
    {
      "cell_type": "markdown",
      "metadata": {
        "colab_type": "text",
        "id": "7KVhlWbqqcsO"
      },
      "source": [
        "<center><h3 style=\"color:green\">PHÁT HIỆN BÌNH LUẬN CHỐNG PHÁ, XÚC PHẠM NHÀ NƯỚC TRÊN MẠNG XÃ HỘI</h2></center>"
      ]
    },
    {
      "cell_type": "markdown",
      "metadata": {
        "colab_type": "text",
        "id": "AenQWPdBq6j-"
      },
      "source": [
        "### 1. Mô tả bài toán:\n",
        "Mạng xã hội là dịch vụ nối kết các thành viên cùng sở thích trên Internet lại với nhau một cách tự do, không phân biệt khoảng cách, thời gian. Đây là nơi chứa lượng thông tin khổng lồ và được cập nhật vô cùng nhanh chóng. Tuy nhiên vì thế tính xác thực, an toàn của thông tin khó được đảm bảo. Lợi dụng điều đó, một số tổ chức chống phá Nhà nước dùng mạng xã hội như một công cụ truyền tải những thông điệp, tin tức sai trái, điều này dễ khiến những người dùng thiếu thận trọng tin vào những thông tin không chính xác. Đề tài này đề cập về việc xây dựng một công cụ nhằm phát hiện những bình luận có tính chất xúc phạm, chống phá Nhà nước Việt Nam trên mạng xã hội Facebook.\\\n",
        "\\\n",
        "Về bài toán này:\n",
        "- Input: một câu bình luận \n",
        "- Output: \n",
        "\n",
        "| **Output** |                 **Ý nghĩa**                 |\n",
        "|:----------:|:-------------------------------------------:|\n",
        "|      1     |    Bình luận có tính xúc phạm, chống đối    |\n",
        "|      0     |    Bình luận trung tính, không liên quan    |\n",
        "|     -1     | Bình luận không có tính xúc phạm, chống đối |"
      ]
    },
    {
      "cell_type": "markdown",
      "metadata": {
        "colab_type": "text",
        "id": "ENVfC23Q_1pV"
      },
      "source": [
        "### 2. Mô tả bộ dữ liệu:"
      ]
    },
    {
      "cell_type": "code",
      "execution_count": null,
      "metadata": {
        "colab": {},
        "colab_type": "code",
        "id": "_qa2FUO-0YFR"
      },
      "outputs": [],
      "source": [
        "# Tải lên bộ dữ liệu\n",
        "import pandas as pd\n",
        "dataset = pd.read_excel(r'data/dataset.xlsx')"
      ]
    },
    {
      "cell_type": "code",
      "execution_count": null,
      "metadata": {
        "colab": {
          "base_uri": "https://localhost:8080/",
          "height": 343
        },
        "colab_type": "code",
        "id": "g8nXHLn591Vq",
        "outputId": "424959fe-cc49-4f09-9a1e-cfbc14e81e56"
      },
      "outputs": [
        {
          "data": {
            "text/html": [
              "<div>\n",
              "<style scoped>\n",
              "    .dataframe tbody tr th:only-of-type {\n",
              "        vertical-align: middle;\n",
              "    }\n",
              "\n",
              "    .dataframe tbody tr th {\n",
              "        vertical-align: top;\n",
              "    }\n",
              "\n",
              "    .dataframe thead th {\n",
              "        text-align: right;\n",
              "    }\n",
              "</style>\n",
              "<table border=\"1\" class=\"dataframe\">\n",
              "  <thead>\n",
              "    <tr style=\"text-align: right;\">\n",
              "      <th></th>\n",
              "      <th>Text</th>\n",
              "      <th>value</th>\n",
              "    </tr>\n",
              "  </thead>\n",
              "  <tbody>\n",
              "    <tr>\n",
              "      <th>0</th>\n",
              "      <td>bậy nào, Cali giờ đóng cửa lại rồi, sao cạo mó...</td>\n",
              "      <td>0</td>\n",
              "    </tr>\n",
              "    <tr>\n",
              "      <th>1</th>\n",
              "      <td>nói thế dân Việt Nam mình ngu à.</td>\n",
              "      <td>1</td>\n",
              "    </tr>\n",
              "    <tr>\n",
              "      <th>2</th>\n",
              "      <td>Đương nhiên là cảnh sát chìm rồi. Dân nào lại ...</td>\n",
              "      <td>1</td>\n",
              "    </tr>\n",
              "    <tr>\n",
              "      <th>3</th>\n",
              "      <td>Cảnh sát chìm ngày xưa chỉ đi lùng tội phạm gi...</td>\n",
              "      <td>1</td>\n",
              "    </tr>\n",
              "    <tr>\n",
              "      <th>4</th>\n",
              "      <td>thái lan mà nghèo</td>\n",
              "      <td>0</td>\n",
              "    </tr>\n",
              "    <tr>\n",
              "      <th>5</th>\n",
              "      <td>ai giết Bắc Hà vậy ku ? Có hợp hiến pháp chxhc...</td>\n",
              "      <td>1</td>\n",
              "    </tr>\n",
              "    <tr>\n",
              "      <th>6</th>\n",
              "      <td>tao là người việt nam đây,,và tao sẽ đứng lên ...</td>\n",
              "      <td>1</td>\n",
              "    </tr>\n",
              "    <tr>\n",
              "      <th>7</th>\n",
              "      <td>chính xác rồi, dân ko bị ai giật dây hết nên đ...</td>\n",
              "      <td>1</td>\n",
              "    </tr>\n",
              "    <tr>\n",
              "      <th>8</th>\n",
              "      <td>nói thiệt ước gì lúc đó mình cũng đc giúp sức ...</td>\n",
              "      <td>1</td>\n",
              "    </tr>\n",
              "    <tr>\n",
              "      <th>9</th>\n",
              "      <td>thì ra phía bên kia chiến tuyến người ta ca ng...</td>\n",
              "      <td>1</td>\n",
              "    </tr>\n",
              "  </tbody>\n",
              "</table>\n",
              "</div>"
            ],
            "text/plain": [
              "                                                Text  value\n",
              "0  bậy nào, Cali giờ đóng cửa lại rồi, sao cạo mó...      0\n",
              "1                   nói thế dân Việt Nam mình ngu à.      1\n",
              "2  Đương nhiên là cảnh sát chìm rồi. Dân nào lại ...      1\n",
              "3  Cảnh sát chìm ngày xưa chỉ đi lùng tội phạm gi...      1\n",
              "4                                  thái lan mà nghèo      0\n",
              "5  ai giết Bắc Hà vậy ku ? Có hợp hiến pháp chxhc...      1\n",
              "6  tao là người việt nam đây,,và tao sẽ đứng lên ...      1\n",
              "7  chính xác rồi, dân ko bị ai giật dây hết nên đ...      1\n",
              "8  nói thiệt ước gì lúc đó mình cũng đc giúp sức ...      1\n",
              "9  thì ra phía bên kia chiến tuyến người ta ca ng...      1"
            ]
          },
          "execution_count": 64,
          "metadata": {
            "tags": []
          },
          "output_type": "execute_result"
        }
      ],
      "source": [
        "# Xem trước 10 dòng dữ liệu đầu tiên\n",
        "dataset.head(10)"
      ]
    },
    {
      "cell_type": "markdown",
      "metadata": {
        "colab_type": "text",
        "id": "U_WvKacbs-aB"
      },
      "source": [
        "#### 2.1 Cách thức xây dựng:\n",
        "- Tìm kiếm những bình luận Tiếng Việt có liên quan đến chính trị trên mạng xã hội, đặc biệt là những cá nhân, trang, nhóm thường xuyên có những bài viết, bình luận mang tính xuyên tạc, chống phá Nhà nước Việt Nam.\n",
        "\n",
        "- Kỹ thuật:\n",
        "    - Tự xây dựng công cụ thu thập dữ liệu với ngôn ngữ Python và thư viện Selenium.\n",
        "    - Selenium là một thư viện giúp sử dụng trình duyệt web một cách tự động.\n",
        "    - Đọc từng câu và gán nhãn.\n",
        "    - Chi tiết được mô tả trong tập tin fb-crawl.py.\n",
        "\n",
        "*Người tham gia xây dựng: Trần Trung Anh (UIT), Nguyễn Hữu Trường (UIT), Nguyễn Nhật Minh (QNU)*"
      ]
    },
    {
      "cell_type": "markdown",
      "metadata": {},
      "source": [
        "#### 2.2 Số lượng, độ đa dạng:\n",
        "- Số lượng hiện tại: 4576 câu bình luận được thu thập chủ yếu từ hai trang facebook *Việt Tân* và *Thông tin chính phủ*.\n",
        "- Trong đó, số lượng dữ liệu của từng nhãn là:"
      ]
    },
    {
      "cell_type": "code",
      "execution_count": null,
      "metadata": {
        "colab": {
          "base_uri": "https://localhost:8080/",
          "height": 84
        },
        "colab_type": "code",
        "id": "xLxPhQBXPsfN",
        "outputId": "ffe7ea89-a972-4337-9505-5a009500565a"
      },
      "outputs": [
        {
          "data": {
            "text/plain": [
              " 0    3086\n",
              " 1    1039\n",
              "-1     451\n",
              "Name: value, dtype: int64"
            ]
          },
          "execution_count": 65,
          "metadata": {
            "tags": []
          },
          "output_type": "execute_result"
        }
      ],
      "source": [
        "# Số lượng mẫu dữ liệu theo từng nhãn\n",
        "dataset['value'].value_counts()"
      ]
    },
    {
      "cell_type": "markdown",
      "metadata": {
        "colab_type": "text",
        "id": "CDSyfu8CQQ5L"
      },
      "source": [
        "#### 2.3 Các thao tác tiền xử lý:\n",
        " - Loại bỏ dấu kết thúc câu, kí tự đặc biệt.\n",
        " - Chuyển những kí tự viết hoa thành viết thường.\n",
        " - Chuyển các từ viết từ viết tắt thành dạng bình thường. \n",
        " - Loại bỏ stopword (những từ dùng để nối câu, thường không mang ý nghĩa).\n",
        " - Tokenize: sử dụng công cụ để tách từ Tiếng Việt.\n"
      ]
    },
    {
      "cell_type": "code",
      "execution_count": null,
      "metadata": {
        "colab": {},
        "colab_type": "code",
        "id": "uzU2BK1dEvya"
      },
      "outputs": [],
      "source": [
        "# Lưu dữ liệu đầu vào vào X, dữ liệu đầu ra vào y\n",
        "X = dataset['Text']\n",
        "y = dataset['value']"
      ]
    },
    {
      "cell_type": "markdown",
      "metadata": {
        "colab_type": "text",
        "id": "hNTTJw30Qpga"
      },
      "source": [
        ">2.3.1 Loại bỏ dấu câu và kí tự đặc biệt:\\\n",
        "Đây là những kí tự để đánh dấu cấu trúc câu hoặc tượng trưng, không mang ý nghĩa cho câu văn."
      ]
    },
    {
      "cell_type": "code",
      "execution_count": null,
      "metadata": {
        "colab": {},
        "colab_type": "code",
        "id": "2BkHTY9vABus"
      },
      "outputs": [],
      "source": [
        "import re\n",
        "def remove_punctuation(data):\n",
        "  for i in range(len(data)):\n",
        "    data[i] = re.sub('[^A-Za-záàãạảăắằẵặẳâấầẫậẩéèẽẹẻêếềễệểíìĩịỉóòõọỏôốồộổơớờợởúùụũủưứừữựửđÁÀÃẠẢĂẮẰẴẶẲÂẤẦẪẬẨÉÈẼẸẺÊẾỀỄỆỂÍÌĨỊỈÓÒÕỌỎÔỐỒỘỔƠỚỜỢỞÚÙỤŨỦỨỪỮỰỬĐ ]+', '', str(data[i]))\n",
        "  return data"
      ]
    },
    {
      "cell_type": "markdown",
      "metadata": {
        "colab_type": "text",
        "id": "8ZqdtTVlSBMZ"
      },
      "source": [
        ">>2.3.2 Chuyển ký tự viết hoá thành viết thường:\\\n",
        "Tương tự như viết tắt, hai từ giống nhau về nghĩa nhưng do viết hoa nên máy tính hiểu chúng khác nhau."
      ]
    },
    {
      "cell_type": "code",
      "execution_count": null,
      "metadata": {
        "colab": {},
        "colab_type": "code",
        "id": "tlLg1brqhYTx"
      },
      "outputs": [],
      "source": [
        "def lower(data):\n",
        "  for i in range(len(data)):\n",
        "    data[i] = data[i].lower()\n",
        "  return data"
      ]
    },
    {
      "cell_type": "markdown",
      "metadata": {
        "colab_type": "text",
        "id": "Ki-R4dtDRT14"
      },
      "source": [
        ">>2.3.3 Chuyển các từ viết tắt về bình thường:\\\n",
        "Từ viết tắt là dạng rút gọn của một từ hoàn chỉnh, không khác về ý nghĩa nhưng khi xử lý trên máy tính thì chúng được hiểu như hai từ khác nhau, vì vậy ta cần thao tác này để chuyển chúng về cùng một dạng.\n",
        "*Danh sách các từ viết tắt được tổng hợp trong data/abbrev.json, chỉ bao gồm một số từ xuất hiện nhiều bộ dữ liệu.*"
      ]
    },
    {
      "cell_type": "code",
      "execution_count": null,
      "metadata": {
        "colab": {},
        "colab_type": "code",
        "id": "_7j9t_MjRVhb"
      },
      "outputs": [],
      "source": [
        "import json\n",
        "abbrevs = json.load(open('data/abbrev.json'), encoding='utf-8')\n",
        "def deAbbreviation(data):\n",
        "  for i in range(len(data)):\n",
        "    for word in data[i].split():\n",
        "      if word in abbrevs.keys():\n",
        "        data[i] = data[i].replace(word, abbrevs[word])\n",
        "  return data"
      ]
    },
    {
      "cell_type": "markdown",
      "metadata": {
        "colab_type": "text",
        "id": "Evb8bR0GSP6L"
      },
      "source": [
        ">>2.3.4 Loại bỏ stopword:\\\n",
        "Stopword là những từ ngữ được dùng chủ yếu để nối từ, nối câu. Chúng thường không mang thêm nhiều ý nghĩa trong câu.\\\n",
        "*Danh sách stopword trong Tiếng Việt được liệt kê trong file data/stopwords.xlsx, nguồn từ nhóm VLSP (https://vlsp.fandom.com/wiki/Danh_s%C3%A1ch_stop_word)*"
      ]
    },
    {
      "cell_type": "code",
      "execution_count": null,
      "metadata": {
        "colab": {},
        "colab_type": "code",
        "id": "KfO6_HSIhwt3"
      },
      "outputs": [],
      "source": [
        "# Loại bỏ stopword\n",
        "stopwords = pd.read_excel(r'data/stopwords.xlsx', header=None)\n",
        "stopwords = list(stopwords[0])\n",
        "def remove_stopwords(data):\n",
        "  for i in range(len(data)):\n",
        "    tmp = ''\n",
        "    for eachWord in data[i].split():\n",
        "      for s in stopwords:\n",
        "        if s == eachWord:\n",
        "          data[i] = data[i].replace(eachWord, '')\n",
        "  return data"
      ]
    },
    {
      "cell_type": "markdown",
      "metadata": {
        "colab_type": "text",
        "id": "5CzRC5UlS_xG"
      },
      "source": [
        ">>2.3.5 Tokenize:\\\n",
        "Tokenize, hay còn gọi là tách từ, là quá trình gom các chữ kề nhau lại thành một từ có ý nghĩa hoàn chỉnh.\n",
        "*Quá trình tokenize được thực hiện qua việc sử dụng công cụ ViTokenizer trong thư viện pyvi.*"
      ]
    },
    {
      "cell_type": "code",
      "execution_count": null,
      "metadata": {
        "colab": {},
        "colab_type": "code",
        "id": "cMDWolfwBECn"
      },
      "outputs": [],
      "source": [
        "# Cài đặt thư viện pyvi nếu cần\n",
        "#!pip install pyvi\n",
        "from pyvi import ViTokenizer as tkn\n",
        "def tokenizer(data):\n",
        "  for i in range(len(data)):\n",
        "    data[i] = tkn.tokenize(data[i])\n",
        "  return data"
      ]
    },
    {
      "cell_type": "code",
      "execution_count": null,
      "metadata": {
        "colab": {},
        "colab_type": "code",
        "id": "aaVyYyj7Vcp4"
      },
      "outputs": [],
      "source": [
        "# Viết hàm tiền xử lý tổng hợp lại quá trình trên\n",
        "def preprocess(data):\n",
        "  data = remove_punctuation(data)\n",
        "  data = lower(data)\n",
        "  data = deAbbreviation(data)\n",
        "  data = remove_stopwords(data)\n",
        "  data = tokenizer(data)\n",
        "  return data"
      ]
    },
    {
      "cell_type": "code",
      "execution_count": null,
      "metadata": {
        "colab": {
          "base_uri": "https://localhost:8080/",
          "height": 437
        },
        "colab_type": "code",
        "id": "Olr5pQSrWCGZ",
        "outputId": "a8ef1a6f-ad50-4c17-d2a9-286a22ff1efe"
      },
      "outputs": [
        {
          "name": "stderr",
          "output_type": "stream",
          "text": [
            "/usr/local/lib/python3.6/dist-packages/ipykernel_launcher.py:4: SettingWithCopyWarning: \n",
            "A value is trying to be set on a copy of a slice from a DataFrame\n",
            "\n",
            "See the caveats in the documentation: https://pandas.pydata.org/pandas-docs/stable/user_guide/indexing.html#returning-a-view-versus-a-copy\n",
            "  after removing the cwd from sys.path.\n",
            "/usr/local/lib/python3.6/dist-packages/ipykernel_launcher.py:3: SettingWithCopyWarning: \n",
            "A value is trying to be set on a copy of a slice from a DataFrame\n",
            "\n",
            "See the caveats in the documentation: https://pandas.pydata.org/pandas-docs/stable/user_guide/indexing.html#returning-a-view-versus-a-copy\n",
            "  This is separate from the ipykernel package so we can avoid doing imports until\n",
            "/usr/local/lib/python3.6/dist-packages/ipykernel_launcher.py:7: SettingWithCopyWarning: \n",
            "A value is trying to be set on a copy of a slice from a DataFrame\n",
            "\n",
            "See the caveats in the documentation: https://pandas.pydata.org/pandas-docs/stable/user_guide/indexing.html#returning-a-view-versus-a-copy\n",
            "  import sys\n",
            "/usr/local/lib/python3.6/dist-packages/ipykernel_launcher.py:10: SettingWithCopyWarning: \n",
            "A value is trying to be set on a copy of a slice from a DataFrame\n",
            "\n",
            "See the caveats in the documentation: https://pandas.pydata.org/pandas-docs/stable/user_guide/indexing.html#returning-a-view-versus-a-copy\n",
            "  # Remove the CWD from sys.path while we load stuff.\n",
            "/usr/local/lib/python3.6/dist-packages/ipykernel_launcher.py:6: SettingWithCopyWarning: \n",
            "A value is trying to be set on a copy of a slice from a DataFrame\n",
            "\n",
            "See the caveats in the documentation: https://pandas.pydata.org/pandas-docs/stable/user_guide/indexing.html#returning-a-view-versus-a-copy\n",
            "  \n"
          ]
        }
      ],
      "source": [
        "X = preprocess(X)"
      ]
    },
    {
      "cell_type": "markdown",
      "metadata": {
        "colab_type": "text",
        "id": "988TlwwtT3i9"
      },
      "source": [
        "**Xem lại dữ liệu sau quá trình tiền xử lý**"
      ]
    },
    {
      "cell_type": "code",
      "execution_count": null,
      "metadata": {
        "colab": {
          "base_uri": "https://localhost:8080/",
          "height": 343
        },
        "colab_type": "code",
        "id": "Lm3m_hguK64A",
        "outputId": "61af2889-6da7-495a-f7d2-7e00ca711486"
      },
      "outputs": [
        {
          "data": {
            "text/html": [
              "<div>\n",
              "<style scoped>\n",
              "    .dataframe tbody tr th:only-of-type {\n",
              "        vertical-align: middle;\n",
              "    }\n",
              "\n",
              "    .dataframe tbody tr th {\n",
              "        vertical-align: top;\n",
              "    }\n",
              "\n",
              "    .dataframe thead th {\n",
              "        text-align: right;\n",
              "    }\n",
              "</style>\n",
              "<table border=\"1\" class=\"dataframe\">\n",
              "  <thead>\n",
              "    <tr style=\"text-align: right;\">\n",
              "      <th></th>\n",
              "      <th>Text</th>\n",
              "      <th>value</th>\n",
              "    </tr>\n",
              "  </thead>\n",
              "  <tbody>\n",
              "    <tr>\n",
              "      <th>0</th>\n",
              "      <td>bậy nào cali giờ đóng_cửa sao cạo móng mới mở_...</td>\n",
              "      <td>0</td>\n",
              "    </tr>\n",
              "    <tr>\n",
              "      <th>1</th>\n",
              "      <td>nói thế dân việt nam mình ngu à</td>\n",
              "      <td>1</td>\n",
              "    </tr>\n",
              "    <tr>\n",
              "      <th>2</th>\n",
              "      <td>đương_nhiên cảnh_sát chìm dân nào đi phản đồng...</td>\n",
              "      <td>1</td>\n",
              "    </tr>\n",
              "    <tr>\n",
              "      <th>3</th>\n",
              "      <td>cảnh_sát chìm ngày_xưa đi lùng tội_phạm giựt d...</td>\n",
              "      <td>1</td>\n",
              "    </tr>\n",
              "    <tr>\n",
              "      <th>4</th>\n",
              "      <td>thái lan nghèo</td>\n",
              "      <td>0</td>\n",
              "    </tr>\n",
              "    <tr>\n",
              "      <th>5</th>\n",
              "      <td>ai giết bắc hà ku hợp_hiến_pháp cộng_hoà xã_hộ...</td>\n",
              "      <td>1</td>\n",
              "    </tr>\n",
              "    <tr>\n",
              "      <th>6</th>\n",
              "      <td>tao người việt nam đây tao đứng đầu thằng_cha ...</td>\n",
              "      <td>1</td>\n",
              "    </tr>\n",
              "    <tr>\n",
              "      <th>7</th>\n",
              "      <td>chính_xác dân ai giật_dây hết đừng vu thế_lực ...</td>\n",
              "      <td>1</td>\n",
              "    </tr>\n",
              "    <tr>\n",
              "      <th>8</th>\n",
              "      <td>nói thiệt ước mình đc giúp_sức đập bọn chó ngu...</td>\n",
              "      <td>1</td>\n",
              "    </tr>\n",
              "    <tr>\n",
              "      <th>9</th>\n",
              "      <td>phía bên kia chiến_tuyến người_ta công_an ngợi...</td>\n",
              "      <td>1</td>\n",
              "    </tr>\n",
              "  </tbody>\n",
              "</table>\n",
              "</div>"
            ],
            "text/plain": [
              "                                                Text  value\n",
              "0  bậy nào cali giờ đóng_cửa sao cạo móng mới mở_...      0\n",
              "1                    nói thế dân việt nam mình ngu à      1\n",
              "2  đương_nhiên cảnh_sát chìm dân nào đi phản đồng...      1\n",
              "3  cảnh_sát chìm ngày_xưa đi lùng tội_phạm giựt d...      1\n",
              "4                                     thái lan nghèo      0\n",
              "5  ai giết bắc hà ku hợp_hiến_pháp cộng_hoà xã_hộ...      1\n",
              "6  tao người việt nam đây tao đứng đầu thằng_cha ...      1\n",
              "7  chính_xác dân ai giật_dây hết đừng vu thế_lực ...      1\n",
              "8  nói thiệt ước mình đc giúp_sức đập bọn chó ngu...      1\n",
              "9  phía bên kia chiến_tuyến người_ta công_an ngợi...      1"
            ]
          },
          "execution_count": 74,
          "metadata": {
            "tags": []
          },
          "output_type": "execute_result"
        }
      ],
      "source": [
        "dataset.head(10)"
      ]
    },
    {
      "cell_type": "markdown",
      "metadata": {
        "colab_type": "text",
        "id": "KnVjAAJTCtJI"
      },
      "source": [
        "#### 2.4 Phân chia dữ liệu:\n",
        "Train/Test = 8/2"
      ]
    },
    {
      "cell_type": "code",
      "execution_count": null,
      "metadata": {
        "colab": {},
        "colab_type": "code",
        "id": "uX3a8VBVC8ON"
      },
      "outputs": [],
      "source": [
        "from sklearn.model_selection import train_test_split\n",
        "X_train, X_test, y_train, y_test = train_test_split(X, y, test_size=0.2, random_state=0, shuffle=True)"
      ]
    },
    {
      "cell_type": "code",
      "execution_count": null,
      "metadata": {
        "colab": {
          "base_uri": "https://localhost:8080/",
          "height": 50
        },
        "colab_type": "code",
        "id": "b9EbAVqzvrt9",
        "outputId": "d31cb92a-e9b2-4f84-c244-4131bccddc90"
      },
      "outputs": [
        {
          "name": "stdout",
          "output_type": "stream",
          "text": [
            "3660\n",
            "916\n"
          ]
        }
      ],
      "source": [
        "print(len(X_train))\n",
        "print(len(X_test))"
      ]
    },
    {
      "cell_type": "markdown",
      "metadata": {},
      "source": [
        "### 3. Trích xuất đặc trưng:\n",
        "Các thuật toán Máy học không thể được huấn luyện trực tiếp từ dữ liệu dạng văn bản, ta cần tiến hành trích xuất đặc trưng từ dữ liệu để có bộ dữ liệu mới dạng ma trận số."
      ]
    },
    {
      "cell_type": "markdown",
      "metadata": {
        "colab_type": "text",
        "id": "m8AD-r7_yUUu"
      },
      "source": [
        "#### 3.1 Count Vectorize\n",
        "Xây dựng một bộ từ điển gồm các từ khác nhau, tổng hợp từ bộ dữ liệu kèm với số lần từ đó xuất hiện trong toàn bộ dữ liệu. \\\n",
        "Sau đó, trong mỗi câu, với mỗi từ trong từ điển, ta đếm số lần xuất hiện của từ đó trong câu.\\\n",
        "Từ đó, ta có vector đặc trưng với độ dài bằng độ dài của từ điển.\n"
      ]
    },
    {
      "cell_type": "code",
      "execution_count": null,
      "metadata": {
        "colab": {},
        "colab_type": "code",
        "id": "5Rm2kp1WGfz2"
      },
      "outputs": [],
      "source": [
        "from sklearn.feature_extraction.text import CountVectorizer\n",
        "cv = CountVectorizer()\n",
        "X_train_cv = cv.fit_transform(X_train)"
      ]
    },
    {
      "cell_type": "markdown",
      "metadata": {
        "colab_type": "text",
        "id": "GRAoW9tIZscH"
      },
      "source": [
        "#### 3.2 TF-IDF Vectorize\n",
        "Giá trị TF-IDF của một từ là một giá trị thu được bằng cách thống kê mức độ quan trọng của từ này trong một câu và trong toàn bộ dữ liệu. Trong đó:\n",
        ">Term Frequency: tần số xuất hiện của một từ trong một câu.\\\n",
        ">Inverse Document Frequency: nghịch đảo tần số của một từ trong toàn bộ các câu.\\\n",
        ">TF-IDF value = TF * log(IDF)"
      ]
    },
    {
      "cell_type": "code",
      "execution_count": null,
      "metadata": {
        "colab": {},
        "colab_type": "code",
        "id": "yy8cr6l7ZyPC"
      },
      "outputs": [],
      "source": [
        "from sklearn.feature_extraction.text import TfidfVectorizer\n",
        "tv = TfidfVectorizer()\n",
        "X_train_tf = tv.fit_transform(X_train)"
      ]
    },
    {
      "cell_type": "markdown",
      "metadata": {},
      "source": [
        "### 4. Huấn luyện một số thuật toán Máy học:"
      ]
    },
    {
      "cell_type": "markdown",
      "metadata": {
        "colab_type": "text",
        "id": "AZz9OxFD0g9T"
      },
      "source": [
        "#### 4.1 Multinomial Naive Bayes\n",
        "Đây là một trong những phương pháp được xây dựng dựa trên định lý Bayes với giả định các đặc trưng hoàn toàn độc lập với nhau. MNB được chủ yếu dùng cho bài toán phân loại nhiều nhãn."
      ]
    },
    {
      "cell_type": "code",
      "execution_count": null,
      "metadata": {
        "colab": {
          "base_uri": "https://localhost:8080/",
          "height": 34
        },
        "colab_type": "code",
        "id": "zu_fiKzGHgGv",
        "outputId": "687a9ec1-ea76-41ac-99b7-98fc6a680bf8"
      },
      "outputs": [
        {
          "data": {
            "text/plain": [
              "MultinomialNB(alpha=1.0, class_prior=None, fit_prior=True)"
            ]
          },
          "execution_count": 79,
          "metadata": {
            "tags": []
          },
          "output_type": "execute_result"
        }
      ],
      "source": [
        "from sklearn.naive_bayes import MultinomialNB\n",
        "MNB_cv = MultinomialNB() # MNB with CountVectorizer\n",
        "MNB_cv.fit(X_train_cv, y_train)\n",
        "\n",
        "MNB_tf = MultinomialNB() # MNB with TFIDFVectorizer\n",
        "MNB_tf.fit(X_train_tf, y_train)"
      ]
    },
    {
      "cell_type": "markdown",
      "metadata": {
        "colab_type": "text",
        "id": "C12eum_IO1aR"
      },
      "source": [
        "#### 4.2 Support Vector Machine\n",
        "Mục tiêu của thuật toán SVM là đi tìm các siêu mặt phẳng trong không gian N chiều sao cho chúng có thể phân biệt nhóm các điểm dữ liệu với nhau. Khoảng cách giữa các điểm dữ liệu của các nhãn khác nhau đến mặt phẳng càng cân bằng thì kết quả dự đoán càng tốt."
      ]
    },
    {
      "cell_type": "code",
      "execution_count": null,
      "metadata": {
        "colab": {
          "base_uri": "https://localhost:8080/",
          "height": 138
        },
        "colab_type": "code",
        "id": "90CVApatP-ex",
        "outputId": "8d385b5e-0ee8-4752-b68a-e19d40d173de"
      },
      "outputs": [
        {
          "name": "stderr",
          "output_type": "stream",
          "text": [
            "/usr/local/lib/python3.6/dist-packages/sklearn/svm/_base.py:947: ConvergenceWarning: Liblinear failed to converge, increase the number of iterations.\n",
            "  \"the number of iterations.\", ConvergenceWarning)\n"
          ]
        },
        {
          "data": {
            "text/plain": [
              "LinearSVC(C=1.0, class_weight=None, dual=True, fit_intercept=True,\n",
              "          intercept_scaling=1, loss='squared_hinge', max_iter=1000,\n",
              "          multi_class='ovr', penalty='l2', random_state=0, tol=0.0001,\n",
              "          verbose=0)"
            ]
          },
          "execution_count": 80,
          "metadata": {
            "tags": []
          },
          "output_type": "execute_result"
        }
      ],
      "source": [
        "from sklearn.svm import LinearSVC\n",
        "LSVC_cv = LinearSVC(random_state=0) # LinearSVC with CountVectorizer\n",
        "LSVC_cv.fit(X_train_cv, y_train)\n",
        "\n",
        "LSVC_tf = LinearSVC(random_state=0) # LinearSVC with TFIDFVectorizer\n",
        "LSVC_tf.fit(X_train_tf, y_train)"
      ]
    },
    {
      "cell_type": "markdown",
      "metadata": {
        "colab_type": "text",
        "id": "dFmo3qnac119"
      },
      "source": [
        "#### 4.3 Kiểm thử"
      ]
    },
    {
      "cell_type": "code",
      "execution_count": null,
      "metadata": {
        "colab": {
          "base_uri": "https://localhost:8080/",
          "height": 106
        },
        "colab_type": "code",
        "id": "h35-3L9Oc0sO",
        "outputId": "85a2a668-36ec-470f-d123-d1823d491c31"
      },
      "outputs": [
        {
          "data": {
            "text/html": [
              "<div>\n",
              "<style scoped>\n",
              "    .dataframe tbody tr th:only-of-type {\n",
              "        vertical-align: middle;\n",
              "    }\n",
              "\n",
              "    .dataframe tbody tr th {\n",
              "        vertical-align: top;\n",
              "    }\n",
              "\n",
              "    .dataframe thead th {\n",
              "        text-align: right;\n",
              "    }\n",
              "</style>\n",
              "<table border=\"1\" class=\"dataframe\">\n",
              "  <thead>\n",
              "    <tr style=\"text-align: right;\">\n",
              "      <th></th>\n",
              "      <th>LSVC</th>\n",
              "      <th>MNB</th>\n",
              "    </tr>\n",
              "  </thead>\n",
              "  <tbody>\n",
              "    <tr>\n",
              "      <th>CV</th>\n",
              "      <td>0.728166</td>\n",
              "      <td>0.713974</td>\n",
              "    </tr>\n",
              "    <tr>\n",
              "      <th>TV</th>\n",
              "      <td>0.734716</td>\n",
              "      <td>0.658297</td>\n",
              "    </tr>\n",
              "  </tbody>\n",
              "</table>\n",
              "</div>"
            ],
            "text/plain": [
              "        LSVC       MNB\n",
              "CV  0.728166  0.713974\n",
              "TV  0.734716  0.658297"
            ]
          },
          "execution_count": 81,
          "metadata": {
            "tags": []
          },
          "output_type": "execute_result"
        }
      ],
      "source": [
        "from sklearn.metrics import accuracy_score as ac\n",
        "X_test_cv = cv.transform(X_test)\n",
        "X_test_tf = tv.transform(X_test)\n",
        "MNB_results = [ac(MNB_cv.predict(X_test_cv), y_test), ac(MNB_tf.predict(X_test_tf), y_test)]\n",
        "LSVC_results = [ac(LSVC_cv.predict(X_test_cv), y_test), ac(LSVC_tf.predict(X_test_tf), y_test)]\n",
        "dtf = pd.DataFrame(list(zip(LSVC_results, MNB_results)), columns=['LSVC', 'MNB'], index=['CV', 'TV'])\n",
        "dtf"
      ]
    },
    {
      "cell_type": "markdown",
      "metadata": {
        "colab_type": "text",
        "id": "7nPlGBdUMvoZ"
      },
      "source": [
        "### 5. Tinh chỉnh tham số:\n",
        "Sử dụng thuật toán Grid Search cho mô hình sử dụng Linear SVC và TFIDFVectorizer để tìm ra giá trị C (regularization) tốt nhất."
      ]
    },
    {
      "cell_type": "code",
      "execution_count": null,
      "metadata": {
        "colab": {
          "base_uri": "https://localhost:8080/",
          "height": 87
        },
        "colab_type": "code",
        "id": "of_mybH5amMv",
        "outputId": "f4b4a56f-d2e8-4c1a-965a-724b3ba8d6c8"
      },
      "outputs": [
        {
          "name": "stderr",
          "output_type": "stream",
          "text": [
            "/usr/local/lib/python3.6/dist-packages/sklearn/svm/_base.py:947: ConvergenceWarning: Liblinear failed to converge, increase the number of iterations.\n",
            "  \"the number of iterations.\", ConvergenceWarning)\n"
          ]
        },
        {
          "name": "stdout",
          "output_type": "stream",
          "text": [
            "{'C': 10.01}\n"
          ]
        }
      ],
      "source": [
        "import numpy as np\n",
        "from sklearn.model_selection import GridSearchCV\n",
        "param_grid = {'C':np.arange(0.01,100,10)}\n",
        "linearSVC = GridSearchCV(LinearSVC(),param_grid,cv=5,return_train_score=True)\n",
        "linearSVC.fit(X_train_tf,y_train)\n",
        "print(linearSVC.best_params_)"
      ]
    },
    {
      "cell_type": "code",
      "execution_count": null,
      "metadata": {
        "colab": {
          "base_uri": "https://localhost:8080/",
          "height": 34
        },
        "colab_type": "code",
        "id": "TI0cP_-2j7pM",
        "outputId": "3cd7d831-fd95-4c79-bd70-8a86c5b54467"
      },
      "outputs": [
        {
          "data": {
            "text/plain": [
              "0.983879781420765"
            ]
          },
          "execution_count": 83,
          "metadata": {
            "tags": []
          },
          "output_type": "execute_result"
        }
      ],
      "source": [
        "# Xây dựng lại mô hình LinearSVC với tham số C đã tìm được.\n",
        "bestLinearSVC = linearSVC.best_estimator_\n",
        "bestLinearSVC.fit(X_train_tf,y_train)\n",
        "bestLinearSVC.score(X_train_tf,y_train)"
      ]
    },
    {
      "cell_type": "code",
      "execution_count": null,
      "metadata": {
        "colab": {
          "base_uri": "https://localhost:8080/",
          "height": 185
        },
        "colab_type": "code",
        "id": "MlKOsH-cv-7o",
        "outputId": "ba8a9b0e-1797-4b36-b7ee-e9367c44dd66"
      },
      "outputs": [
        {
          "name": "stdout",
          "output_type": "stream",
          "text": [
            "              precision    recall  f1-score   support\n",
            "\n",
            "          -1       0.59      0.40      0.48        96\n",
            "           0       0.76      0.85      0.80       595\n",
            "           1       0.58      0.48      0.52       225\n",
            "\n",
            "    accuracy                           0.71       916\n",
            "   macro avg       0.64      0.57      0.60       916\n",
            "weighted avg       0.70      0.71      0.70       916\n",
            "\n"
          ]
        }
      ],
      "source": [
        "from sklearn.metrics import classification_report as cr\n",
        "print(cr(y_test, bestLinearSVC.predict(X_test_tf)))"
      ]
    },
    {
      "cell_type": "markdown",
      "metadata": {
        "colab_type": "text",
        "id": "vuMQwefuM2nR"
      },
      "source": [
        "### 6. Đánh giá kết quả, kết luận:"
      ]
    },
    {
      "cell_type": "markdown",
      "metadata": {
        "colab_type": "text",
        "id": "ax7URNxukMhA"
      },
      "source": [
        "- Sau quá trình huấn luyện và kiểm thử, ta nhận thấy:\n",
        ">Thuật toán SVM kết hợp với vector đặc trưng TF_IDF cho kết quả cao nhất.\\\n",
        "> Thậm chí, sau khi chạy GridSearch để tìm giá trị C (regularization) tốt nhất, độ chính xác tăng thêm đáng kể.\\\n",
        "> Tuy nhiên, với lượng dữ liệu khá hạn chế và các bước tiền xử lý chưa hoàn toàn chuẩn xác, kết quả thực nghiệm nhập vào từ người dùng vẫn chưa cho kết quả khả quan."
      ]
    },
    {
      "cell_type": "markdown",
      "metadata": {
        "colab_type": "text",
        "id": "_X87vyHmzX6k"
      },
      "source": [
        "### 7. Sử dụng model để dự đoán dữ liệu nhập vào:"
      ]
    },
    {
      "cell_type": "code",
      "execution_count": null,
      "metadata": {
        "colab": {
          "base_uri": "https://localhost:8080/",
          "height": 34
        },
        "colab_type": "code",
        "id": "k0MYm60REmv7",
        "outputId": "ef655b0d-bf04-494f-ff97-58e8e3a2c670"
      },
      "outputs": [
        {
          "name": "stdout",
          "output_type": "stream",
          "text": [
            "Result:  [ 1  0 -1]\n"
          ]
        }
      ],
      "source": [
        "inp = [\n",
        "       'Chỉ có bọn quan tham cộng sản xhcn vô pháp vô thiên mới hành xử như bọn mafia,ăn chặn trên xương máu của người dân!',\n",
        "'Nhan nhản những chuyện tương tự thế này trên khắp Việt Nam.',\n",
        "'Tuyệt vời, cảm ơn Đảng, chính phủ luôn quan tâm đến người dân dù ở trong hay ngoài nước.'\n",
        "]\n",
        "inp = preprocess(inp)\n",
        "inp_vector = tv.transform(inp)\n",
        "pred = bestLinearSVC.predict(inp_vector)\n",
        "print('Result: ', pred)"
      ]
    }
  ],
  "metadata": {
    "colab": {
      "authorship_tag": "ABX9TyOMAaIfxQFKl99gUZconhgj",
      "collapsed_sections": [],
      "include_colab_link": true,
      "name": "ML-Capstone.ipynb",
      "provenance": [],
      "toc_visible": true
    },
    "interpreter": {
      "hash": "9845bc82c2a8b9ef717dd6fdf9ef6b5012bfad3745c99f79bbb6799f572468a5"
    },
    "kernelspec": {
      "display_name": "Python 3.10.4 ('tta')",
      "language": "python",
      "name": "python3"
    },
    "language_info": {
      "name": "python",
      "version": "3.10.4"
    }
  },
  "nbformat": 4,
  "nbformat_minor": 0
}
